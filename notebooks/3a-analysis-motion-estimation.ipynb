{
 "cells": [
  {
   "cell_type": "markdown",
   "id": "72e1de26-3f35-4014-9f3b-16dc1d5fae77",
   "metadata": {},
   "source": [
    "# Image Analysis Module: Motion Estimation\n",
    "\n",
    "**Notes from Hany Farid's Computer Vision Course (UC Berkley)**\n",
    "https://farid.berkeley.edu/downloads/tutorials/learnComputerVision/"
   ]
  },
  {
   "cell_type": "markdown",
   "id": "2c552402-b7c5-4818-b2c7-5d12a4cfd05a",
   "metadata": {},
   "source": [
    "There are two common approaches to motion estimation: **differential estimation** and **feature tracking**. We take a look at each below"
   ]
  },
  {
   "cell_type": "markdown",
   "id": "9f2faff1-648e-4511-a5e9-352efc55a969",
   "metadata": {},
   "source": [
    "## Differential Estimation\n",
    "\n",
    "This approach is built on two fundamental assumptions:\n",
    "\n",
    "**1) Brightness Constancy**:\n",
    "This says that we can assume pixels will not significantly change brightness in a short span of time (unless the subject is teleporting!)\n",
    "\n",
    "**2) Assumption that motion is constant:**\n",
    "This says that if a pixel has motion between two frames then it is reasonable to assume that neighboring pixels have consistent movement as well\n",
    "\n",
    "Differential motion estimation is derived from the above two assumptions:\n"
   ]
  },
  {
   "cell_type": "code",
   "execution_count": null,
   "id": "96905a93-1822-40e1-8af4-f4b016c389d1",
   "metadata": {},
   "outputs": [],
   "source": []
  }
 ],
 "metadata": {
  "kernelspec": {
   "display_name": "Python 3 (ipykernel)",
   "language": "python",
   "name": "python3"
  },
  "language_info": {
   "codemirror_mode": {
    "name": "ipython",
    "version": 3
   },
   "file_extension": ".py",
   "mimetype": "text/x-python",
   "name": "python",
   "nbconvert_exporter": "python",
   "pygments_lexer": "ipython3",
   "version": "3.7.3"
  }
 },
 "nbformat": 4,
 "nbformat_minor": 5
}
