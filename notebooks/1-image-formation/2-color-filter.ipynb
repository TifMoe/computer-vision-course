{
 "cells": [
  {
   "cell_type": "markdown",
   "metadata": {},
   "source": [
    "# Image Formation Module: Color Filter \n",
    "\n",
    "**Notes from Hany Farid's Computer Vision Course (UC Berkley)**\n",
    "https://farid.berkeley.edu/downloads/tutorials/learnComputerVision/"
   ]
  },
  {
   "cell_type": "code",
   "execution_count": 3,
   "metadata": {},
   "outputs": [],
   "source": [
    "## Packages we'll need for our exercises below\n",
    "import numpy as np\n",
    "from math import sqrt, sin, cos\n",
    "import matplotlib.pyplot as plt"
   ]
  },
  {
   "cell_type": "markdown",
   "metadata": {},
   "source": [
    "## [Pixels Color Filter Array](https://farid.berkeley.edu/downloads/tutorials/learnComputerVision/lectures/cv-02-10-colorFilterArray.mp4)"
   ]
  },
  {
   "cell_type": "markdown",
   "metadata": {
    "tags": []
   },
   "source": [
    "### Exercise #3 - Generate full RGB image in matplotlib\n",
    "\n",
    "> Write some code that generates a 256 x 256 image. In this image, the value of each pixel in the i^th image row of the red channel is `i*0.0039`, the value of each pixel in the i^th image row of the green channel is `1-i*0.0039`, and every pixel in the blue channel is `1`. Here, we will encode pixel values in the range [0,1] and display the image using `matplotlib.pyplot.imshow`"
   ]
  },
  {
   "cell_type": "code",
   "execution_count": 4,
   "metadata": {},
   "outputs": [
    {
     "data": {
      "image/png": "[encoded data removed]",
      "text/plain": [
       "<Figure size 432x288 with 1 Axes>"
      ]
     },
     "metadata": {
      "needs_background": "light"
     },
     "output_type": "display_data"
    }
   ],
   "source": [
    "r = np.empty((256,256), dtype=float)\n",
    "g = np.empty((256,256), dtype=float)\n",
    "b = np.empty((256,256), dtype=float)\n",
    "\n",
    "for i in range(0,256):\n",
    "    r[i] = np.full(256, i*0.0031)\n",
    "    g[i] = np.full(256, 1-i*0.0031)\n",
    "    b[i] = np.full(256, .9) \n",
    "    \n",
    "rgbArray = np.zeros((256,256,3), dtype=np.float32)\n",
    "rgbArray[..., 0] = r\n",
    "rgbArray[..., 1] = g\n",
    "rgbArray[..., 2] = b\n",
    "\n",
    "im = plt.imshow(\n",
    "    rgbArray\n",
    ");"
   ]
  }
 ],
 "metadata": {
  "kernelspec": {
   "display_name": "Python 3 (ipykernel)",
   "language": "python",
   "name": "python3"
  },
  "language_info": {
   "codemirror_mode": {
    "name": "ipython",
    "version": 3
   },
   "file_extension": ".py",
   "mimetype": "text/x-python",
   "name": "python",
   "nbconvert_exporter": "python",
   "pygments_lexer": "ipython3",
   "version": "3.7.3"
  }
 },
 "nbformat": 4,
 "nbformat_minor": 4
}
