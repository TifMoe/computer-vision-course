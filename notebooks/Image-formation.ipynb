{
 "cells": [
  {
   "cell_type": "markdown",
   "metadata": {},
   "source": [
    "# Image Formation Module\n",
    "\n",
    "**Notes from Hany Farid's Computer Vision Course (UC Berkley)**\n",
    "https://farid.berkeley.edu/downloads/tutorials/learnComputerVision/"
   ]
  },
  {
   "cell_type": "code",
   "execution_count": 30,
   "metadata": {},
   "outputs": [],
   "source": [
    "## Packages we'll need for our exercises below\n",
    "import numpy as np\n",
    "from math import sqrt, sin, cos\n",
    "import matplotlib.pyplot as plt"
   ]
  },
  {
   "cell_type": "markdown",
   "metadata": {},
   "source": [
    "Using the camera obscura (pinhole camera) as a simple example, we learned that we can mathematically determine where something will show up in a picture relative to the real world position with $x = \\begin{pmatrix}-fX \\\\ Z \\end{pmatrix}$ where:\n",
    "\n",
    "```\n",
    "x = Projected image location in the camera sensor coordinate system\n",
    "\n",
    "X = Actual object location in real world coordinate system\n",
    "\n",
    "Z = Distance between the camera's aperture and actual object in real world coordinate system\n",
    "\n",
    "f = Focal length (distance between photosensative material and aperture\n",
    "```"
   ]
  },
  {
   "cell_type": "markdown",
   "metadata": {},
   "source": [
    "## Exercise #1 - Perspective Projection\n",
    "Understanding the loss of information in projecting down a dimension - in this case we're projecting from a 2D \"real world\" to a 1D sensor coordinate system\n",
    "\n",
    "> Write code that simulates the projection of a line segment defined by two points (-5, Z) an (5, Z) where Z ranges from 10 to 1000, assumig a camera focal length of f=1.\n",
    "\n",
    "> For each distance Z, project the two points into a 1-D sensor under perspective projection, and compute the length of the segment.\n",
    "\n",
    "> Plot this length as a function of distance Z to see how size changes as a function of distance to the camera"
   ]
  },
  {
   "cell_type": "code",
   "execution_count": 25,
   "metadata": {},
   "outputs": [],
   "source": [
    "def plotLengthChanges(Xa, Xb):\n",
    "    f = 1\n",
    "    projections = []\n",
    "\n",
    "    for i in range(10, 1000):\n",
    "        a = (-f * Xa) / i\n",
    "        b = (-f * Xb) / i\n",
    "\n",
    "        dist = sqrt((a-b)**2)\n",
    "        projections.append(dist)\n",
    "\n",
    "    plt.plot(projections)\n",
    "    plt.ylabel('projected length')\n",
    "    plt.xlabel('distance Z')"
   ]
  },
  {
   "cell_type": "code",
   "execution_count": 26,
   "metadata": {},
   "outputs": [
    {
     "data": {
      "image/png": "[encoded data removed]",
      "text/plain": [
       "<Figure size 432x288 with 1 Axes>"
      ]
     },
     "metadata": {
      "needs_background": "light"
     },
     "output_type": "display_data"
    }
   ],
   "source": [
    "plotLengthChanges(-5, 5)"
   ]
  },
  {
   "cell_type": "markdown",
   "metadata": {},
   "source": [
    "The exponential drop in size relative to distance from the camera is why we see two paralell lines converging when looking at an image of a straight road, for example"
   ]
  },
  {
   "cell_type": "markdown",
   "metadata": {},
   "source": [
    "## [Generalizing 2D projection](https://farid.berkeley.edu/downloads/tutorials/learnComputerVision/lectures/cv-02-05-perspective2Dgeneralized.mp4)\n",
    "We've learned about how to generalize the above 2D perspective projection by resolving the three different coordinate systems we're dealing with:\n",
    "\n",
    "1) World Coordinate System $\\begin{pmatrix}X_w \\\\ Z_w \\end{pmatrix}$ - where things are located in the real world (cm)\n",
    "\n",
    "2) Camera Coordinate System $\\begin{pmatrix}X_c \\\\ Z_c \\end{pmatrix}$ - where things are located inside the camera (cm)\n",
    "\n",
    "3) Sensor Coordinate System $\\begin{pmatrix}X_s \\\\ s \\end{pmatrix}$ - where object projections are located in the camera sensor (pixels)"
   ]
  },
  {
   "cell_type": "markdown",
   "metadata": {},
   "source": [
    "### Specifying a point in the world in the camera coordinate system\n",
    "This means that we need to resolve the location of an object from the world coordinate system to the camera coordinate system in order to avoid having things change based on where the camera is located. \n",
    "\n",
    "We can do this with an in-plane rotation and origin translation from the point in the world. \n",
    "\n",
    "\n",
    "$ \\begin{pmatrix}\n",
    "    X_c \\\\\n",
    "    Z_c\n",
    "\\end{pmatrix} = \\begin{pmatrix}\n",
    "    \\cos(\\theta) & -\\sin(\\theta) & t_x \\\\\n",
    "    \\sin(\\theta) & \\cos(\\theta) & t_z\n",
    "\\end{pmatrix} \\begin{pmatrix}\n",
    "    X_w \\\\\n",
    "    Z_w \\\\\n",
    "    1\n",
    "\\end{pmatrix}$\n",
    "\n",
    "(the extra \"1\" at the bottom of the last matrix is just using [homeogenius coordinates](https://en.wikipedia.org/wiki/Homogeneous_coordinates) to avoid lugging around the translation as a separate operation)"
   ]
  },
  {
   "cell_type": "markdown",
   "metadata": {},
   "source": [
    "### Finding the projected object location in Sensor Coordinate system\n",
    "Now that we have our camera coordinates above (as defined by real world coordinate system) we can resolve object locations into the sensor coordinate system to find the projected location\n",
    "\n",
    "We can do this by multiplying the camera coordinates with a matrix containing two extra terms:\n",
    "\n",
    "$ f $ - focal length\n",
    "\n",
    "$ c_x $ - how much the sensor is offset from the optical axis\n",
    "\n",
    "$ \\begin{pmatrix}\n",
    "    x_s \\\\\n",
    "    s\n",
    "\\end{pmatrix} = \\begin{pmatrix}\n",
    "    f & c_x \\\\\n",
    "    0 & 1\n",
    "\\end{pmatrix} \\begin{pmatrix}\n",
    "    X_c \\\\\n",
    "    Z_c\n",
    "\\end{pmatrix}$\n",
    "\n",
    "Multiplying that out we get the following coordinates in the camera coordinate system that will map to the object's location in the sensor coordinate system  $x = x_s/s = (fX_c + c_xZ_c) / Z_c$"
   ]
  },
  {
   "cell_type": "markdown",
   "metadata": {},
   "source": [
    "### Putting it all together\n",
    "\n",
    "The last thing we need to do is convert the units from real-world measurments (cm) in the camera coordinate system to pixels in the sensor coordinate system. We do this by adding a $ \\Lambda $ term which represents the density of pixels in the sensor... so the final equation, putting all of the above together is:\n",
    "\n",
    "$ \\begin{pmatrix}\n",
    "    x_s \\\\\n",
    "    s\n",
    "\\end{pmatrix} = \\Lambda \\begin{pmatrix}\n",
    "    f & c_x \\\\\n",
    "    0 & 1\n",
    "\\end{pmatrix} \\begin{pmatrix}\n",
    "    \\cos(\\theta) & -\\sin(\\theta) & t_x \\\\\n",
    "    \\sin(\\theta) & \\cos(\\theta) & t_z\n",
    "\\end{pmatrix} \\begin{pmatrix}\n",
    "    X_w \\\\\n",
    "    Z_w \\\\\n",
    "    1\n",
    "\\end{pmatrix}$\n",
    "\n",
    "The **first matrix**, $\\begin{pmatrix}\n",
    "    f & c_x \\\\\n",
    "    0 & 1\n",
    "\\end{pmatrix}$, can be thought of an an **_intrinsic_ matrix**, translating the camera system to the sensor system and is typically represented as $K$\n",
    "\n",
    "The **second matrix**, $\\begin{pmatrix}\n",
    "    \\cos(\\theta) & -\\sin(\\theta) & t_x \\\\\n",
    "    \\sin(\\theta) & \\cos(\\theta) & t_z\n",
    "\\end{pmatrix}$, can be thought of an an **_extrinsic_ matrix**, translating the camera system to the sensor system and is typically represented as $M$\n",
    "\n",
    "In that way, we can simply refer to the above equation as:\n",
    "$ \\vec p = \\Lambda K M \\vec P$\n",
    "\n",
    "### Loss of information\n",
    "We talked above about loss of information in the perspective projection and see it again algebraically here because a 2 x 3 matrix operation is not invertible"
   ]
  },
  {
   "cell_type": "markdown",
   "metadata": {},
   "source": [
    "## [3D Perspective Projection](https://farid.berkeley.edu/downloads/tutorials/learnComputerVision/lectures/cv-02-06-perspective3D.mp4)\n",
    "\n",
    "Now instead of projecting from a 2D world to 1D sensor as above, we need to project from a 3D world to a 2D sensor.\n",
    "\n",
    "So we will be starting with a 3 dimensional world-coordinate and resolving to a 3 dimensional camera coordinate in much the same was as we did above - a rotation + origin translation! The difference is that we're no longer doing an in-plane rotation but are going to have to be able to rotate along the X, Y and Z axis."
   ]
  },
  {
   "cell_type": "markdown",
   "metadata": {},
   "source": [
    "### Exercise #2 - 3D to 2D projection\n",
    "> Write some code that simulates the projection of a 3-D cube under the perspective projection. The eight corners of the cube are:\n",
    "```\n",
    "[0,0,0],[1,0,0],[1,1,0],[0,1,0],[0,0,1],[1,0,1],[1,1,1],[0,1,1]\n",
    "```\n",
    "\n",
    "> Specify the translation and rotation around the x-, y-, and z- axis and build the 3x4 extrinsic matrix $M$.\n",
    "\n",
    "> Specify the focal length and camera center, and build the 3x3 intrinsic matrix $K$.\n",
    "\n",
    "> Project under perspective projection using the projection matrix formulation: \n",
    "\n",
    "> $ \\begin{pmatrix}\n",
    "    x_s \\\\\n",
    "    y_s \\\\\n",
    "    s\n",
    "\\end{pmatrix} = \\Lambda \\begin{pmatrix}\n",
    "    f & 0 & c_x \\\\\n",
    "    0 & f & c_y \\\\\n",
    "    0 & 0 & 1\n",
    "\\end{pmatrix} \\begin{pmatrix}\n",
    "    r_{11} & r_{21} & r_{31} & t_x \\\\\n",
    "    r_{12} & r_{22} & r_{32} & t_y \\\\\n",
    "    r_{13} & r_{23} & r_{33} & t_z\n",
    "\\end{pmatrix} \\begin{pmatrix}\n",
    "    X_w \\\\\n",
    "    Y_w \\\\\n",
    "    Z_w \\\\\n",
    "    1\n",
    "\\end{pmatrix}$\n",
    "\n",
    "> Draw the resulting \"image\" of the cube: $ \\vec p = \\Lambda K M \\vec P$"
   ]
  },
  {
   "cell_type": "markdown",
   "metadata": {},
   "source": [
    "Some helpful notes from Hany:\n",
    "\n",
    "1) Assume $c_x$ and $c_y$ are 0 for now to simplify things\n",
    "\n",
    "2) Assume $t_x$ and $t_y$ are also 0 and just play with the movement of Z\n",
    "\n",
    "3) The 3x3 rotation in our extrinsic matrix can be defined as below - I will need to define all our theta values:\n",
    "> $ R = \\begin{pmatrix}\n",
    "    1 & 0 & 0 \\\\\n",
    "    0 & \\cos(\\theta_x) & -\\sin(\\theta_x) \\\\\n",
    "    0 & \\sin(\\theta_x) & \\cos(\\theta_x)\n",
    "\\end{pmatrix} \\begin{pmatrix}\n",
    "    \\cos(\\theta_y) & 0 & \\sin(\\theta_y) \\\\\n",
    "    0 & 1 & 0 \\\\\n",
    "    -\\sin(\\theta_y) & 0 & \\cos(\\theta_y)\n",
    "\\end{pmatrix} \\begin{pmatrix}\n",
    "    \\cos(\\theta_z) & -\\sin(\\theta_z) & 0 \\\\\n",
    "    \\sin(\\theta_z) & \\cos(\\theta_z) & 0 \\\\\n",
    "    0 & 0 & 1\n",
    "\\end{pmatrix}$"
   ]
  },
  {
   "cell_type": "code",
   "execution_count": 79,
   "metadata": {},
   "outputs": [
    {
     "data": {
      "text/plain": [
       "(-0.005, 0.02, -0.01, 0.012)"
      ]
     },
     "execution_count": 79,
     "metadata": {},
     "output_type": "execute_result"
    },
    {
     "data": {
      "image/png": "[encoded data removed]",
      "text/plain": [
       "<Figure size 432x288 with 1 Axes>"
      ]
     },
     "metadata": {
      "needs_background": "light"
     },
     "output_type": "display_data"
    }
   ],
   "source": [
    "cube = np.array([[0,0,0,1],[1,0,0,1],[1,1,0,1],[0,1,0,1],[0,0,1,1],[1,0,1,1],[1,1,1,1],[0,1,1,1]])\n",
    "\n",
    "f = 1\n",
    "tx = 0\n",
    "ty = 0\n",
    "tz = 100\n",
    "\n",
    "Rx = np.radians(30)\n",
    "Ry = np.radians(30)\n",
    "Rz = np.radians(0)\n",
    "\n",
    "# Define the basic rotation matrix for each axis\n",
    "RMx = np.array([[1,0,0], [0, cos(Rx), -sin(Rx)], [0, sin(Rx), cos(Rx)]])\n",
    "RMy = np.array([[cos(Ry),0, sin(Ry)],[0,1,0], [-sin(Ry), 0, cos(Ry)]])\n",
    "RMz = np.array([[cos(Rz), -sin(Rz), 0], [sin(Rz), cos(Rz), 0], [0,0,1]])\n",
    "M = RMz @ RMy @ RMx\n",
    "\n",
    "# Add the origin translation terms to complete extrinsic matrix\n",
    "M = np.append(M, [[tx], [ty], [tz]], axis=1)\n",
    "    \n",
    "# Define intrinsic matrix\n",
    "K = np.array([[f,0,0],[0,f,0],[0,0,1]])\n",
    "\n",
    "x = []\n",
    "y = []\n",
    "for point in cube:\n",
    "    r = K @ (np.dot(M, point))\n",
    "    x.append(r[0]/r[2])\n",
    "    y.append(r[1]/r[2])\n",
    "    \n",
    "plt.scatter(x, y)\n",
    "plt.axis((-0.005,0.02,-0.01, 0.012))"
   ]
  },
  {
   "cell_type": "markdown",
   "metadata": {},
   "source": [
    "## [Fixels Color Filter Array](https://farid.berkeley.edu/downloads/tutorials/learnComputerVision/lectures/cv-02-10-colorFilterArray.mp4)"
   ]
  },
  {
   "cell_type": "markdown",
   "metadata": {},
   "source": [
    "### Exercise #3 - Generate full RGB image in matplotlib\n",
    "\n",
    "> Write some code that generates a 256 x 256 image. In this image, the value of each pixel in the i^th image row of the red channel is `i*0.0039`, the value of each pixel in the i^th image row of the green channel is `1-i*0.0039`, and every pixel in the blue channel is `1`. Here, we will encode pixel values in the range [0,1] and display the image using `matplotlib.pyplot.imshow`"
   ]
  },
  {
   "cell_type": "code",
   "execution_count": 122,
   "metadata": {},
   "outputs": [
    {
     "data": {
      "image/png": "[encoded data removed]",
      "text/plain": [
       "<Figure size 432x288 with 1 Axes>"
      ]
     },
     "metadata": {
      "needs_background": "light"
     },
     "output_type": "display_data"
    }
   ],
   "source": [
    "r = np.empty((256,256), dtype=float)\n",
    "g = np.empty((256,256), dtype=float)\n",
    "b = np.empty((256,256), dtype=float)\n",
    "\n",
    "for i in range(0,256):\n",
    "    r[i] = np.full(256, i*0.0039)\n",
    "    g[i] = np.full(256, 1-i*0.0039)\n",
    "    b[i] = np.full(256, 1)\n",
    "    \n",
    "rgbArray = np.zeros((256,256,3), dtype=np.float32)\n",
    "rgbArray[..., 0] = r\n",
    "rgbArray[..., 1] = g\n",
    "rgbArray[..., 2] = b\n",
    "\n",
    "im = plt.imshow(\n",
    "    rgbArray\n",
    ");"
   ]
  },
  {
   "cell_type": "code",
   "execution_count": null,
   "metadata": {},
   "outputs": [],
   "source": []
  }
 ],
 "metadata": {
  "kernelspec": {
   "display_name": "Python 3",
   "language": "python",
   "name": "python3"
  },
  "language_info": {
   "codemirror_mode": {
    "name": "ipython",
    "version": 3
   },
   "file_extension": ".py",
   "mimetype": "text/x-python",
   "name": "python",
   "nbconvert_exporter": "python",
   "pygments_lexer": "ipython3",
   "version": "3.7.3"
  }
 },
 "nbformat": 4,
 "nbformat_minor": 4
}
