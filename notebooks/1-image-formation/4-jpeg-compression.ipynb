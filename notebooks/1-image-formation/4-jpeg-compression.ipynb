{
 "cells": [
  {
   "cell_type": "markdown",
   "id": "806d54d9-e046-49b7-bab4-fb5639de320d",
   "metadata": {
    "tags": []
   },
   "source": [
    "# Image Formation Module: Compression\n",
    "\n",
    "**Notes from Hany Farid's Computer Vision Course (UC Berkley)**\n",
    "https://farid.berkeley.edu/downloads/tutorials/learnComputerVision/"
   ]
  },
  {
   "cell_type": "code",
   "execution_count": 7,
   "id": "e59ad146-3311-4806-8831-eb630cc081d0",
   "metadata": {},
   "outputs": [],
   "source": [
    "## Packages we'll need for our exercises below\n",
    "import numpy as np"
   ]
  },
  {
   "cell_type": "markdown",
   "id": "893a26be-7cb1-4313-bf7d-da96696593c7",
   "metadata": {
    "tags": []
   },
   "source": [
    "## [JPEG Compression](https://farid.berkeley.edu/learnComputerVision/lectures/cv-02-14-JPEGcompression.mp4)\n",
    "\n",
    "JPEG storage is cheap but uses lossy compression to reduce the size of the image - the general process is:\n",
    "\n",
    "1. RGB (in [0,255])\n",
    "2. RGB to YCbCr (in [0,255])\n",
    "3. Downsample Cb/Cr (optional)\n",
    "4. Partition each channel into non-overlapping 8x8 pixel blocks\n",
    "5. Discrete cosine transform (DCT-II) each block\n",
    "6. Quantize DCT coefficients\n",
    "7. Entropy encode quantized DCT coefficients\n",
    "\n",
    "To execute the discrete cosine transform you need to take each value $u$ (rows) and $v$ (cols) and compute the following:\n",
    "\n",
    "$ F_c(u,v) = \\alpha _{u,v} \n",
    "\\sum_{x=0} ^7\n",
    "\\sum_{y=0} ^7\n",
    "f_c(x,y) \n",
    "\\cos(\\frac{(2x+1)u\\pi} {16})\n",
    "\\cos(\\frac{(2y+1)v\\pi} {16})\n",
    "$\n",
    "\n",
    "To then quantize the DCT coefficents you need to compute:\n",
    "\n",
    "$\\hat{F}_c(u,v)\n",
    "\\lfloor \\frac{F_c(u,v)}{q_c(u,v)} \\rfloor$\n",
    "\n",
    "Finding the DCT doesn't save any space - but the savings comes from quantizing the values because it takes each value and divides by some number then finds the floor... so all the small values can be encoded as 0"
   ]
  },
  {
   "cell_type": "markdown",
   "id": "84b19062-ef47-4f38-a37f-73e6e58aaefa",
   "metadata": {},
   "source": [
    "### Exercise #5 - Compute quantized DCT coefficients\n",
    "\n",
    "> Write a Python function that takes as input an 8x8 numpy array of random pixel values and an 8x8 numpy array of quantization values, and returns the quantized 8x8 DCT coefficients.\n",
    "\n",
    "$ F_c(u,v) = \\alpha _{u,v} \n",
    "\\sum_{x=0} ^7\n",
    "\\sum_{y=0} ^7\n",
    "f_c(x,y) \n",
    "\\cos(\\frac{(2x+1)u\\pi} {16})\n",
    "\\cos(\\frac{(2y+1)v\\pi} {16})\n",
    "$\n",
    "\n",
    "Where:\n",
    "$\\alpha_u,v = \\alpha_u \\alpha_v$\n",
    "\n",
    "if $u = 0$ then $\\alpha_u, \\alpha_v$ = $\\sqrt{1/8}$ else $\\sqrt{2/8}$\n",
    "\n",
    "--- \n",
    "Hany helps us break down the DCT equation in setting up this exercise;\n",
    "\n",
    "- $ F_c(u,v)$ = the DCT transform where u and v go from 0-7 across and down in our 8x8 matrix below\n",
    "\n",
    "- $ \\alpha _{u,v} $ is explained above - it's just a scaling value \n",
    "\n",
    "- $ \\sum_{x=0} ^7\n",
    "\\sum_{y=0} ^7 $ means that we're doing a double sum over all values of x and y\n",
    "\n",
    "- $ f_c(x,y) $ are the actual x,y in each loop as we iterate through the double sum above\n",
    "\n",
    "- $ \\cos(\\frac{(2x+1)u\\pi} {16})\n",
    "\\cos(\\frac{(2y+1)v\\pi} {16}) $ for each x,y and u,v we're finding the cosine terms defined here and summing them all up\n",
    "\n",
    "This will give us the DCT coeffient for $(u,v)$\n",
    "\n"
   ]
  },
  {
   "cell_type": "code",
   "execution_count": 8,
   "id": "a103cfe7-d01e-42da-b6ca-993888cc54f0",
   "metadata": {},
   "outputs": [],
   "source": [
    "# array of random pixel values\n",
    "P = np.random.randint(0, 255, size=(8, 8))\n",
    "\n",
    "# array of quantization values (setting all to two for now)\n",
    "Q = np.empty(shape=(8,8))\n",
    "Q.fill(2)"
   ]
  },
  {
   "cell_type": "code",
   "execution_count": 9,
   "id": "e530313c-c3d6-47e3-a69e-edb6b35c246d",
   "metadata": {},
   "outputs": [
    {
     "name": "stdout",
     "output_type": "stream",
     "text": [
      "input pixel matrix: \n",
      " [[  7 194 227  80 114  76  96  79]\n",
      " [108 160 202  20 104 107 185 217]\n",
      " [  2 205  46  25  43 158  50 101]\n",
      " [141 135  18  12   5 253 210 176]\n",
      " [  6  91 134  77 191 122 232  33]\n",
      " [ 53  91   9  26   6 206  75  73]\n",
      " [153  69 169 187 204  42  30 242]\n",
      " [204  22 239  24   2 229 121  37]] \n",
      "\n",
      "quantized DCT coefficents: \n",
      " [[434 -38  32   3 -90 -29  39   4]\n",
      " [  5  -7  13 -42 -50 -57 -60   1]\n",
      " [ 27  68 -15 -63  18   9  57  45]\n",
      " [-11  -2 -56 -29  20 -10 -40  23]\n",
      " [ 13   1 -16  31 -60  50   4  29]\n",
      " [  5   7   8 -19  58 -29  -3 -44]\n",
      " [-86  19 -11  41 -67 -13  10 -64]\n",
      " [  0  23 -82 -48  30 -25 -41  41]]\n"
     ]
    }
   ],
   "source": [
    "def findDCT(P, Q):\n",
    "    if (P.shape[0] != P.shape[1]) | (len(P.shape) != 2) | (P.shape != Q.shape):\n",
    "        raise('assumes square matrices as input')\n",
    "\n",
    "    s = P.shape[0]\n",
    "    DCT = np.zeros(shape=(s,s))\n",
    "\n",
    "    # Loop over every u,v as row/cols in the input matrix P\n",
    "    for u in range(0, s):\n",
    "        for v in range(0, s):\n",
    "            au = np.sqrt(1/8) if u == 0 else np.sqrt(2/8)\n",
    "            av = np.sqrt(1/8) if v == 0 else np.sqrt(2/8)\n",
    "            \n",
    "            # double sum over every x,y value in pixel matrix P\n",
    "            s2 = 0\n",
    "            for x in range(0,8):\n",
    "                s1 = 0\n",
    "                for y in range(0,8):\n",
    "                    s1 += P[x,y] * np.cos(((2*x+1)*u*np.pi)/16) * np.cos(((2*y+1)*v*np.pi)/16)\n",
    "                s2 += s1\n",
    "            DCT[u,v] = au * av * s2\n",
    "\n",
    "    return np.array( DCT/Q, dtype=int )\n",
    "\n",
    "print('input pixel matrix: \\n', P, '\\n')\n",
    "print('quantized DCT coefficents: \\n', findDCT(P,Q))\n",
    "    \n",
    "    "
   ]
  },
  {
   "cell_type": "code",
   "execution_count": 10,
   "id": "2406827d-0304-463d-abc9-0f6c3d140031",
   "metadata": {},
   "outputs": [
    {
     "name": "stdout",
     "output_type": "stream",
     "text": [
      "input pixel matrix: \n",
      " [[  7 194 227  80 114  76  96  79]\n",
      " [108 160 202  20 104 107 185 217]\n",
      " [  2 205  46  25  43 158  50 101]\n",
      " [141 135  18  12   5 253 210 176]\n",
      " [  6  91 134  77 191 122 232  33]\n",
      " [ 53  91   9  26   6 206  75  73]\n",
      " [153  69 169 187 204  42  30 242]\n",
      " [204  22 239  24   2 229 121  37]] \n",
      "\n",
      "quantized DCT coefficients: \n",
      " [[434 -38  32   3 -90 -29  39   4]\n",
      " [  5  -7  13 -42 -50 -57 -60   1]\n",
      " [ 27  68 -15 -63  18   9  57  45]\n",
      " [-11  -2 -56 -29  20 -10 -40  23]\n",
      " [ 13   1 -16  31 -60  50   4  29]\n",
      " [  5   7   8 -19  58 -29  -3 -44]\n",
      " [-86  19 -11  41 -67 -13  10 -64]\n",
      " [  0  23 -82 -48  30 -25 -41  41]]\n"
     ]
    }
   ],
   "source": [
    "# Checking my work by comparing against Hany's solution in the slides\n",
    "# min 15 on https://farid.berkeley.edu/learnComputerVision/lectures/cv-02-14-JPEGcompression.mp4\n",
    "\n",
    "def hanySolution(B,Q):\n",
    "    D = np.zeros((8,8)) # initialize\n",
    "    y,x = np.meshgrid(np.arange(1,9,1), np.arange(1,9,1))\n",
    "    for i in range(1,9):\n",
    "        for j in range(1,9):\n",
    "            ai = np.sqrt(1/8) if i == 1 else np.sqrt(2/8)\n",
    "            aj = np.sqrt(1/8) if j == 1 else np.sqrt(2/8)\n",
    "            D[i-1,j-1] = ai * aj * np.sum( np.sum(B * np.cos(np.pi*(2*x-1)*(i-1)/16) *\n",
    "                                                      np.cos(np.pi*(2*y-1)*(j-1)/16)))\n",
    "    return( np.array(D/Q, dtype=int) ) # quantize\n",
    "                  \n",
    "print('input pixel matrix: \\n', P, '\\n')\n",
    "print('quantized DCT coefficients: \\n', hanySolution(P,Q))"
   ]
  },
  {
   "cell_type": "code",
   "execution_count": null,
   "id": "56208da7-7970-4710-829d-249d92abeea6",
   "metadata": {},
   "outputs": [],
   "source": []
  }
 ],
 "metadata": {
  "kernelspec": {
   "display_name": "Python 3 (ipykernel)",
   "language": "python",
   "name": "python3"
  },
  "language_info": {
   "codemirror_mode": {
    "name": "ipython",
    "version": 3
   },
   "file_extension": ".py",
   "mimetype": "text/x-python",
   "name": "python",
   "nbconvert_exporter": "python",
   "pygments_lexer": "ipython3",
   "version": "3.7.3"
  }
 },
 "nbformat": 4,
 "nbformat_minor": 5
}
