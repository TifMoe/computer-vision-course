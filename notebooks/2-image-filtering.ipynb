{
 "cells": [
  {
   "cell_type": "markdown",
   "metadata": {},
   "source": [
    "# Image Filtering Module\n",
    "\n",
    "**Notes from Hany Farid's Computer Vision Course (UC Berkley)**\n",
    "https://farid.berkeley.edu/downloads/tutorials/learnComputerVision/"
   ]
  },
  {
   "cell_type": "markdown",
   "metadata": {},
   "source": [
    "## Convolutions\n",
    "We begin the lessons on convolutions with a discussion of discrete-time signals and systems as well as an intro to linear time-invariant systems in 1-dimension. "
   ]
  },
  {
   "cell_type": "markdown",
   "metadata": {},
   "source": [
    "Two keys to the magic of Linear Time-Invariant systems are:\n",
    "\n",
    "**1. Linear property - you can just scale the output instead of the input**\n",
    "The fact that these systems are linear in nature means that it is functionally the same thing to pass our system a scaled value as it is to pass a raw value into the system and then scale the output. \n",
    "\n",
    "For example, our Linear Time-Invariant System (LTI) can be written as:\n",
    "\n",
    "$ g[x] = T\\{f[x]\\}$\n",
    "\n",
    "or\n",
    "\n",
    "$ g[x] = T \\bigg\\{ \n",
    "\\sum\\limits_{k=-\\infty}^\\infty f[k]\\delta[x-k]\n",
    "\\bigg\\} $\n",
    "\n",
    "So we can see the linear properly at play when, instead of scaling the delta (signal) by $f[k]$ inside the LTI system $T$, we can pull out that scale term and pass only the signal value itself into $T$ and scale the output of our system by $f[k]$.\n",
    "\n",
    "$ g[x] = \n",
    "\\sum\\limits_{k=-\\infty}^\\infty f[k]T\\{\\delta[x-k]\\}\n",
    "$"
   ]
  },
  {
   "cell_type": "markdown",
   "metadata": {},
   "source": [
    "**2. Time-invariant property - you can just shift the output instead fo shifting the input**\n",
    "This means that if we define the output of our LTI $T\\{\\delta[x]\\}$ as $h[x]$ then we can just add a shifting term to h instead of passing a shifted value into $T$\n",
    "\n",
    "$ h[x] = T\\{\\delta[x]\\}$\n",
    "\n",
    "$ g[x] = \n",
    "\\sum\\limits_{k=-\\infty}^\\infty f[k]h[x-k]\\}\n",
    "$\n",
    "\n"
   ]
  },
  {
   "cell_type": "markdown",
   "metadata": {},
   "source": [
    "Because of the two properties above we can just manipulate the output from one discrete signal (scaling and shifting) instead of needing to pass new inputs into the LTI system and re-compute everything.\n",
    "\n",
    "> \"A single unit-impulse response fully characterizes the linear time-invariant system\"\n",
    "\n",
    "So the above is a convolution but we note it using $\\star$ notation like:\n",
    "\n",
    "$ g[x] = (f \\star h)[x]$\n",
    "\n",
    "or\n",
    "\n",
    "$ g[x] = f[x] \\star h[x] $"
   ]
  },
  {
   "cell_type": "markdown",
   "metadata": {},
   "source": [
    "And because our LTI system is a linear system of equations, we can solve for this with matrix multiplication like:\n",
    "\n",
    "$ \\begin{pmatrix}\n",
    "g[0] \\\\\n",
    "g[1] \\\\\n",
    "g[2] \\\\\n",
    "\\vdots \\\\\n",
    "g[n-1] \\\\\n",
    "g[n]\n",
    "\\end{pmatrix}\n",
    "=\n",
    "\\begin{pmatrix}\n",
    "h_0 & h_{-1} & 0 & \\dots & 0 & 0 & h_1 \\\\\n",
    "h_1 & h_0 & h_{-1} & \\dots & 0 & 0 & 0 \\\\\n",
    "0 & h_1 & h_0 & \\dots & 0 & 0 & 0 \\\\\n",
    "\\vdots &&& \\ddots &&& \\vdots \\\\\n",
    "0 & 0 & 0 & \\dots & h_1 & h_0 & h_{-1} \\\\\n",
    "h_{-1} & 0 & 0 & \\dots & 0 & h_1 & h_0 \n",
    "\\end{pmatrix}  \\begin{pmatrix}\n",
    "f[0] \\\\\n",
    "f[1] \\\\\n",
    "f[2] \\\\\n",
    "\\vdots \\\\\n",
    "f[n-1] \\\\\n",
    "f[n]\n",
    "\\end{pmatrix}$\n",
    "\n",
    "or, as:\n",
    "\n",
    "$ \\vec{g} = M \\vec{f} $\n",
    "\n",
    "You'll also note that the second matrix there, $M$, is invertable - so we can also find the input values $f$ from the resulting matrix when we know $M$:\n",
    "\n",
    "$ \\vec{f} = M^{-1} \\vec{g} $\n",
    "\n",
    "*Note: We'll deal with edges of the convolution later on - for now you can see that we're wrapping the `h_x` values in the first and last row*\n"
   ]
  },
  {
   "cell_type": "markdown",
   "metadata": {},
   "source": [
    "### 2-D Convolutions \n",
    "\n",
    "Moving from 1D to 2D is pretty straightforward - we can take the equations above and, instead of just having to deal with $x$, we will expect $[x,y]$ coordinate pairs instead.\n",
    "\n",
    "Now instead of having a series of linear points moving down a line, we will have a little matrix (kernel) moving across the face of a larger matrix (pixel values) where the center of the kernel is the single impulse signal"
   ]
  },
  {
   "cell_type": "markdown",
   "metadata": {},
   "source": [
    "So we can think about a **discrete image** as:\n",
    "\n",
    "$f[x,y] = \n",
    "\\sum\\limits_{j=1}^m \n",
    "\\sum\\limits_{k=1}^n \n",
    "f[j,k]\n",
    "\\delta[x-j, y-k]\n",
    "$\n",
    "\n",
    "and the corresponding **convolution** using a LTI system as:\n",
    "\n",
    "$g[x,y] = \n",
    "\\sum\\limits_{j=1}^m \n",
    "\\sum\\limits_{k=1}^n \n",
    "f[j,k]\n",
    "h[x-j, y-k]\n",
    "$\n",
    "\n",
    "where the convolutional output is some shifted and scaled version of a **single unit-impulse response**, as:\n",
    "\n",
    "$ h[x,y] = T\\{\\delta[x,y]\\} $"
   ]
  },
  {
   "cell_type": "code",
   "execution_count": null,
   "metadata": {},
   "outputs": [],
   "source": []
  }
 ],
 "metadata": {
  "kernelspec": {
   "display_name": "Python 3",
   "language": "python",
   "name": "python3"
  },
  "language_info": {
   "codemirror_mode": {
    "name": "ipython",
    "version": 3
   },
   "file_extension": ".py",
   "mimetype": "text/x-python",
   "name": "python",
   "nbconvert_exporter": "python",
   "pygments_lexer": "ipython3",
   "version": "3.7.3"
  }
 },
 "nbformat": 4,
 "nbformat_minor": 4
}
