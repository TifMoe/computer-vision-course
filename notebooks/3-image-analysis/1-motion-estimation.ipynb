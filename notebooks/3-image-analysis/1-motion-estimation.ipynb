{
 "cells": [
  {
   "cell_type": "markdown",
   "id": "72e1de26-3f35-4014-9f3b-16dc1d5fae77",
   "metadata": {},
   "source": [
    "# Image Analysis Module: Motion Estimation\n",
    "\n",
    "**Notes from Hany Farid's Computer Vision Course (UC Berkley)**\n",
    "https://farid.berkeley.edu/downloads/tutorials/learnComputerVision/"
   ]
  },
  {
   "cell_type": "markdown",
   "id": "2c552402-b7c5-4818-b2c7-5d12a4cfd05a",
   "metadata": {},
   "source": [
    "There are two common approaches to motion estimation: **differential estimation** and **feature tracking**. We take a look at each below"
   ]
  },
  {
   "cell_type": "markdown",
   "id": "9f2faff1-648e-4511-a5e9-352efc55a969",
   "metadata": {},
   "source": [
    "## Differential Estimation\n",
    "\n",
    "This approach is built on two fundamental assumptions:\n",
    "\n",
    "**1) Brightness Constancy**:\n",
    "This says that we can assume pixels will not significantly change brightness in a short span of time (unless the subject is teleporting!)\n",
    "\n",
    "$ \\frac {df( x(t), y(t), t)} {dt} = 0 $\n",
    "---\n",
    "\n",
    "This can be broken down using the chain rule to:\n",
    "\n",
    "$ \\frac{df}{dx}\n",
    "\\frac{dx}{dt} + \n",
    "\\frac{df}{dy}\n",
    "\\frac{dy}{dt} +\n",
    "\\frac{df}{dt} = 0 $\n",
    "---\n",
    "\n",
    "This can be re-written more simply as below where $f_x$ and $f_y$ are the rate of change in the x and y directions of our image. Similarly, $v_x$ and $v_y$ are the velocity of change in the x and y direction with respect to time (how the pixels move between frames):\n",
    "\n",
    "$ f_x v_x +  f_y v_y + f_t = 0 $ \n",
    "---\n",
    "\n",
    "Re-written again in a linear algebraic form we can see clearly that we're looking for our direction and velocity of change in x,y ($\\begin{pmatrix} v_x \\\\ v_y \\end{pmatrix}$) - so we have two unknowns in the first term and only one constraint...\n",
    "\n",
    "$ \\begin{pmatrix} f_x & f_y \\end{pmatrix}\n",
    " \\begin{pmatrix} v_x \\\\ v_y \\end{pmatrix} + f_t = 0 $\n",
    " ---\n",
    "\n",
    "That's a problem above because we only have one pixel we're dealing with... but if we assume that motion is more or less contstant in a small patch of pixels then we can increase the number of constraints!\n",
    "\n",
    "\n",
    "**2) Assumption that motion is constant:**\n",
    "This says that if a pixel has motion between two frames then it is reasonable to assume that neighboring pixels have consistent movement as well. Because of this assumption, we are able expand the equation above to include more contraints. For example, if we take a small 3x3 window we can re-write as:\n",
    "\n",
    "$ \\begin{pmatrix} \n",
    "f_x(x_1, y_1) & f_y(x_1,y_1) \\\\\n",
    "f_x(x_2, y_2) & f_y(x_2,y_2) \\\\\n",
    "\\vdots & \\vdots  \\\\\n",
    "f_x(x_9, y_9) & f_y(x_9,y_9) \\\\\n",
    "\\end{pmatrix}\n",
    "\\begin{pmatrix} v_x \\\\ v_y \\end{pmatrix} + \n",
    "\\begin{pmatrix} \n",
    "f_t(x_1, y_1) \\\\\n",
    "f_t(x_2, y_2)  \\\\\n",
    "\\vdots   \\\\\n",
    "f_t(x_9, y_9) \\\\\n",
    "\\end{pmatrix} = \\vec 0 $\n",
    "\n",
    "So this can be more simply written as below where $A$ is our matrix of spacial derivatives, $\\vec v$ is our motion estimate (our unknown) and $\\vec t$ is the vector for our temporal derivatives:\n",
    "\n",
    "$A \\vec v + \\vec t = \\vec 0 $\n",
    "---\n",
    "\n",
    "So how do we solve for our unknown vector $\\vec v$? We can write a quadratic error function to find the $\\vec v$ which minimizes our $A \\vec v + \\vec t$ since we know this should ideally be 0! Super cool to come out with this from the two assumptions above!\n",
    "\n",
    "$ E(\\vec v) = \\vert\\vert A \\vec v + \\vec t \\vert\\vert ^2 $\n",
    "\n",
    "The above error function can be solved with a least squares solution:\n",
    "\n",
    "$ \\vec v = -(A^T A)^{-1} A^T \\vec t$\n",
    "---"
   ]
  },
  {
   "cell_type": "markdown",
   "id": "76e56707-47cc-4c3e-8fbf-68ad2fda6f37",
   "metadata": {},
   "source": [
    "So then, if our spacial derivative matrix $A$ is invertible, we can write the product of $A$ and it's transpose ($A^T A$) as below, where $\\omega$ is the number of pixels we have in our square (9 above):\n",
    "\n",
    "$ A^T A = \\begin{pmatrix} \n",
    "\\sum_{\\omega} f^2_x & \\sum_{\\omega} f_x f_y \\\\\n",
    "\\sum_{\\omega} f_x f_y & \\sum_{\\omega} f^2_y\n",
    "\\end{pmatrix} $\n"
   ]
  },
  {
   "cell_type": "markdown",
   "id": "f778bf4d-20da-4b8c-a738-b644ecc911a0",
   "metadata": {},
   "source": [
    "Similarly, matrix $A^T$ can be multiplied with the vector $\\vec t$ to find the second term in our solution above:\n",
    "\n",
    "$ A^T \\vec t = \\begin{pmatrix} \n",
    "\\sum_{\\omega} f_x f_t \\\\\n",
    "\\sum_{\\omega} f_y f_t\n",
    "\\end{pmatrix} $"
   ]
  },
  {
   "cell_type": "markdown",
   "id": "b2717d9e-2211-4797-af00-3688cef6e30b",
   "metadata": {},
   "source": []
  }
 ],
 "metadata": {
  "kernelspec": {
   "display_name": "Python 3 (ipykernel)",
   "language": "python",
   "name": "python3"
  },
  "language_info": {
   "codemirror_mode": {
    "name": "ipython",
    "version": 3
   },
   "file_extension": ".py",
   "mimetype": "text/x-python",
   "name": "python",
   "nbconvert_exporter": "python",
   "pygments_lexer": "ipython3",
   "version": "3.7.3"
  }
 },
 "nbformat": 4,
 "nbformat_minor": 5
}
