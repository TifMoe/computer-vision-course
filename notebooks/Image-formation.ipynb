{
 "cells": [
  {
   "cell_type": "markdown",
   "metadata": {},
   "source": [
    "# Image Formation Module\n",
    "\n",
    "**Notes from Hany Farid's Computer Vision Course (UC Berkley)**\n",
    "https://farid.berkeley.edu/downloads/tutorials/learnComputerVision/"
   ]
  },
  {
   "cell_type": "markdown",
   "metadata": {},
   "source": [
    "Using the camera obscura (pinhole camera) as a simple example, we learned that we can mathematically determine where something will show up in a picture relative to the real world position with `x = -fX/Z` where:\n",
    "\n",
    "```\n",
    "x = Projected image location in the camera sensor coordinate system\n",
    "\n",
    "X = Actual object location in real world coordinate system\n",
    "\n",
    "Z = Distance between the camera's aperture and actual object in real world coordinate system\n",
    "\n",
    "f = Focal length (distance between photosensative material and aperture\n",
    "```"
   ]
  },
  {
   "cell_type": "markdown",
   "metadata": {},
   "source": [
    "## First exercise - Perspective Projection\n",
    "Understanding the loss of information in projecting down a dimension - in this case we're projecting from a 2D \"real world\" to a 1D sensor coordinate system\n",
    "\n",
    "> Write code that simulates the projection of a line segment defined by two points (-5, Z) an (5, Z) where Z ranges from 10 to 1000, assumig a camera focal length of f=1.\n",
    "\n",
    "> For each distance Z, project the two points into a 1-D sensor under perspective projection, and compute the length of the segment.\n",
    "\n",
    "> Plot this length as a function of distance Z to see how size changes as a function of distance to the camera"
   ]
  },
  {
   "cell_type": "code",
   "execution_count": 7,
   "metadata": {},
   "outputs": [],
   "source": [
    "import numpy as np\n",
    "from math import sqrt\n",
    "import matplotlib.pyplot as plt"
   ]
  },
  {
   "cell_type": "code",
   "execution_count": 25,
   "metadata": {},
   "outputs": [],
   "source": [
    "def plotLengthChanges(Xa, Xb):\n",
    "    f = 1\n",
    "    projections = []\n",
    "\n",
    "    for i in range(10, 1000):\n",
    "        a = (-f * Xa) / i\n",
    "        b = (-f * Xb) / i\n",
    "\n",
    "        dist = sqrt((a-b)**2)\n",
    "        projections.append(dist)\n",
    "\n",
    "    plt.plot(projections)\n",
    "    plt.ylabel('projected length')\n",
    "    plt.xlabel('distance Z')"
   ]
  },
  {
   "cell_type": "code",
   "execution_count": 26,
   "metadata": {},
   "outputs": [
    {
     "data": {
      "image/png": "[encoded data removed]",
      "text/plain": [
       "<Figure size 432x288 with 1 Axes>"
      ]
     },
     "metadata": {
      "needs_background": "light"
     },
     "output_type": "display_data"
    }
   ],
   "source": [
    "plotLengthChanges(-5, 5)"
   ]
  },
  {
   "cell_type": "markdown",
   "metadata": {},
   "source": [
    "The exponential drop in size relative to distance from the camera is why we see two paralell lines converging when looking at an image of a straight road, for example"
   ]
  },
  {
   "cell_type": "markdown",
   "metadata": {},
   "source": [
    "## Second Exercise - "
   ]
  }
 ],
 "metadata": {
  "kernelspec": {
   "display_name": "Python 3",
   "language": "python",
   "name": "python3"
  },
  "language_info": {
   "codemirror_mode": {
    "name": "ipython",
    "version": 3
   },
   "file_extension": ".py",
   "mimetype": "text/x-python",
   "name": "python",
   "nbconvert_exporter": "python",
   "pygments_lexer": "ipython3",
   "version": "3.7.3"
  }
 },
 "nbformat": 4,
 "nbformat_minor": 4
}
